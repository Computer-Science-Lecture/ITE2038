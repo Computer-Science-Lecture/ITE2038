{
 "cells": [
  {
   "cell_type": "code",
   "execution_count": 1,
   "metadata": {},
   "outputs": [],
   "source": [
    "import pandas as pd\n",
    "import numpy as np"
   ]
  },
  {
   "cell_type": "code",
   "execution_count": 2,
   "metadata": {},
   "outputs": [],
   "source": [
    "from typing import Callable\n",
    "\n",
    "from enum import Enum\n",
    "from functools import wraps"
   ]
  },
  {
   "cell_type": "code",
   "execution_count": 3,
   "metadata": {},
   "outputs": [],
   "source": [
    "from typing import Callable\n",
    "\n",
    "from enum import Enum\n",
    "from functools import wraps\n",
    "\n",
    "class Permission(Enum):\n",
    "    Default = 0\n",
    "    Admin = 1\n",
    "    Student = 2\n",
    "    \n",
    "    def sudo(upper, session, task):\n",
    "        original_permission = session.permission\n",
    "        session.permission = upper\n",
    "        result = task()\n",
    "        session.permission = original_permission\n",
    "        return result\n",
    "\n",
    "    def require(permission):\n",
    "        def wrapper(f):\n",
    "            @wraps(f)\n",
    "            def wrapped(self, *args, **kwargs):\n",
    "                if self.permission == permission:\n",
    "                    return f(self, *args, **kwargs)\n",
    "                raise Exception(\"Invalid Permission\")\n",
    "            return wrapped\n",
    "        return wrapper\n"
   ]
  },
  {
   "cell_type": "code",
   "execution_count": 4,
   "metadata": {},
   "outputs": [],
   "source": [
    "class T(Enum):\n",
    "    contacts = 1\n",
    "    students = 2\n",
    "    classes = 3\n",
    "    course = 4\n",
    "    credits = 5\n"
   ]
  },
  {
   "cell_type": "code",
   "execution_count": 5,
   "metadata": {},
   "outputs": [],
   "source": [
    "class Session(object):\n",
    "    def __init__(self, user: int, permission: Permission):\n",
    "        self.user = user\n",
    "        self.permission = permission\n",
    "\n",
    "    @property\n",
    "    def isAdmin(self) -> bool:\n",
    "        return self.permission == Permission.admin\n",
    "\n",
    "    def require():\n",
    "        def wrapper(f):\n",
    "            @wraps(f)\n",
    "            def wrapped(self, *args, **kwargs):\n",
    "                if self.session:\n",
    "                    return f(self, *args, **kwargs)\n",
    "                raise Exception(\"Session required\")\n",
    "            return wrapped\n",
    "        return wrapper"
   ]
  },
  {
   "cell_type": "code",
   "execution_count": 81,
   "metadata": {},
   "outputs": [],
   "source": [
    "from os import path\n",
    "class Manager:\n",
    "    def __init__(self, files):\n",
    "        if not all(t in files for t in T):\n",
    "            raise \"Must include all files\"\n",
    "        self.files = files\n",
    "        self.__frames = {file: pd.read_csv(filename, dtype=object, sep=\" *, *\", encoding=\"UTF-8\") for file, filename in files.items()}\n",
    "        self.__columns = {file: frame.columns.values for file, frame in self.__frames.items()}\n",
    "        self.__values_admin = {file: frame.values for file, frame in self.__frames.items()}\n",
    "        self.__values_user = {t: np.zeros((0, self.__columns[t].size)) for t in T}\n",
    "        self.__session = Session(None, Permission.Default)\n",
    "\n",
    "    def load_user(self):\n",
    "        for t, file in self.files.items():\n",
    "            self.__session.user\n",
    "            filename = '{}_{}'.format(self.__session.user, file)\n",
    "            if path.isfile(filename):\n",
    "                self.__values_user[t] = pd.read_csv(filename, dtype=object, sep=\" *, *\", encoding=\"UTF-8\").values\n",
    "            else:\n",
    "                self.__values_user[t] = np.zeros((0, self.__columns[t].size))\n",
    "        \n",
    "    def login(self, user, pw):\n",
    "        if user == 'admin':\n",
    "            self.__session = Session(user, Permission.Admin)\n",
    "        else:\n",
    "            password = Permission.Admin.sudo(self.__session, lambda: self.findOne(['password'], T.students, {'sid': user}))\n",
    "            if password and password[0] == pw:\n",
    "                self.__session = Session(user, Permission.Student)\n",
    "                self.load_user()\n",
    "            else:\n",
    "                raise Exception('Invalid ID or Password')\n",
    "    \n",
    "    @property\n",
    "    def permission(self) -> Permission:\n",
    "        return self.__session.permission\n",
    "    \n",
    "    @Permission.require(Permission.Admin)\n",
    "    def values_admin(self) -> np.ndarray:\n",
    "        return self.__values_admin\n",
    "    \n",
    "    @Permission.require(Permission.Student)\n",
    "    def values_student(self) -> np.ndarray:\n",
    "        return self.__values_user\n",
    "    \n",
    "    @Permission.require(Permission.Admin)\n",
    "    def set_values_admin(self, target: T, v: np.ndarray):\n",
    "        self.__values_admin[T] = v\n",
    "    \n",
    "    @Permission.require(Permission.Student)\n",
    "    def set_values_student(self, target: T, v: np.ndarray):\n",
    "        self.__values_user[T] = v\n",
    "    \n",
    "    @property\n",
    "    def values(self) -> np.ndarray:\n",
    "        return {\n",
    "            Permission.Admin: self.values_admin,\n",
    "            Permission.Student: self.values_student,\n",
    "        }[self.__session.permission]()\n",
    "    \n",
    "    @property\n",
    "    def columns(self) -> np.ndarray:\n",
    "        return self.__columns\n",
    "    \n",
    "    def elements(self, t: T) -> np.ndarray:\n",
    "        return np.vstack([\n",
    "            Permission.Admin.sudo(self.__session, lambda: self.values[t]),\n",
    "            Permission.Student.sudo(self.__session, lambda: self.values[t])\n",
    "        ])\n",
    "    \n",
    "    def create(self, target: T, values = np.ndarray):\n",
    "        self.values[target] = np.vstack([self.values[target], np.array(values)])\n",
    "    \n",
    "    def remove(self, target: T, where: dict = {}):\n",
    "        self.values[target] = np.delete(self.values[target], self.findIndex(target, where), 0)\n",
    "    \n",
    "    def update(self, target: T, where: dict = {}, values = np.ndarray):\n",
    "        for key, value in values.items():\n",
    "            self.values[target][self.findIndex(target, where), np.where(self.__columns[target] == key)[0][0]] = value\n",
    "    \n",
    "    def findIndex(self, target: T, where: dict = {}) -> np.ndarray:\n",
    "        return np.where(\n",
    "            np.logical_and(\n",
    "                *[self.values[target][:,column] == value for column, value in zip(\n",
    "                    [np.where(self.__columns[target] == case)[0][0] for case in where],\n",
    "                    where.values()\n",
    "                )],\n",
    "                np.ones(np.size(self.values[target], 0), dtype=np.bool),\n",
    "                np.ones(np.size(self.values[target], 0), dtype=np.bool)\n",
    "            )\n",
    "        )[0]\n",
    "\n",
    "    def findAll(self, subject: list, target: T, where: dict = {}) -> np.ndarray:\n",
    "        return self.values[target][self.findIndex(target, where)]\\\n",
    "                          [:, [np.where(self.__columns[target] == case)[0][0] for case in (subject if subject else self.__columns[target])]]\n",
    "    \n",
    "    def findOne(self, subject: list, target: T, where: dict = {}) -> object:\n",
    "        try:\n",
    "            return self.findAll(subject, target, where)[0]\n",
    "        except:\n",
    "            return None\n",
    "    \n",
    "    # target function\n",
    "    @property\n",
    "    def emails(self):\n",
    "        return zip(*map(lambda x: x.split('@'), db.findAll(['email'], T.contacts).squeeze()))\n",
    "    \n",
    "    def __str__(self):\n",
    "        pass"
   ]
  },
  {
   "cell_type": "code",
   "execution_count": 82,
   "metadata": {},
   "outputs": [
    {
     "name": "stderr",
     "output_type": "stream",
     "text": [
      "c:\\utility\\conda\\lib\\site-packages\\ipykernel_launcher.py:7: ParserWarning: Falling back to the 'python' engine because the 'c' engine does not support regex separators (separators > 1 char and different from '\\s+' are interpreted as regex); you can avoid this warning by specifying engine='python'.\n",
      "  import sys\n"
     ]
    }
   ],
   "source": [
    "db = Manager({\n",
    "    T.contacts: 'contacts.csv',\n",
    "    T.students: 'students.csv',\n",
    "    T.classes: 'class.csv',\n",
    "    T.course: 'course.csv',\n",
    "    T.credits: 'credits.csv',\n",
    "})"
   ]
  },
  {
   "cell_type": "code",
   "execution_count": 84,
   "metadata": {},
   "outputs": [],
   "source": [
    "db.login('admin', None)"
   ]
  },
  {
   "cell_type": "code",
   "execution_count": 59,
   "metadata": {
    "scrolled": true
   },
   "outputs": [],
   "source": [
    "db.create(T.students, [2016001234, 'xxx', '홍길동', 'male', 6, 1999002345, 1])"
   ]
  },
  {
   "cell_type": "code",
   "execution_count": 60,
   "metadata": {},
   "outputs": [],
   "source": [
    "db.create(T.contacts, [2016001234, '01088884444', 'hong@hanyang.ac.kr'])"
   ]
  },
  {
   "cell_type": "code",
   "execution_count": 61,
   "metadata": {},
   "outputs": [],
   "source": [
    "db.remove(T.contacts, {\"sid\": db.findOne([\"sid\"], T.students, {\"sname\": \"김다현\"})})"
   ]
  },
  {
   "cell_type": "code",
   "execution_count": 66,
   "metadata": {},
   "outputs": [],
   "source": [
    "from numpy import apply_along_axis as npa"
   ]
  },
  {
   "cell_type": "code",
   "execution_count": 78,
   "metadata": {},
   "outputs": [],
   "source": []
  },
  {
   "cell_type": "code",
   "execution_count": 79,
   "metadata": {},
   "outputs": [
    {
     "data": {
      "text/plain": [
       "('amaclead',\n",
       " 'art',\n",
       " 'donette.foller',\n",
       " 'fletcher.flosi',\n",
       " 'gladys.rim',\n",
       " 'gruta',\n",
       " 'jbutt',\n",
       " 'josephine_darakjy',\n",
       " 'kiley.caldarera',\n",
       " 'kris',\n",
       " 'leota',\n",
       " 'lpaprocki',\n",
       " 'mattie',\n",
       " 'meaghan',\n",
       " 'minna_amigon',\n",
       " 'mitsue_tollner',\n",
       " 'sage_wieser',\n",
       " 'simona',\n",
       " 'yuki_whobrey',\n",
       " 'hong',\n",
       " 'hong')"
      ]
     },
     "execution_count": 79,
     "metadata": {},
     "output_type": "execute_result"
    }
   ],
   "source": [
    "local"
   ]
  },
  {
   "cell_type": "code",
   "execution_count": 80,
   "metadata": {},
   "outputs": [
    {
     "data": {
      "text/plain": [
       "('gmail.com',\n",
       " 'venere.org',\n",
       " 'cox.net',\n",
       " 'yahoo.com',\n",
       " 'rim.org',\n",
       " 'cox.net',\n",
       " 'gmail.com',\n",
       " 'darakjy.org',\n",
       " 'aol.com',\n",
       " 'gmail.com',\n",
       " 'hotmail.com',\n",
       " 'hotmail.com',\n",
       " 'aol.com',\n",
       " 'hotmail.com',\n",
       " 'yahoo.com',\n",
       " 'yahoo.com',\n",
       " 'cox.net',\n",
       " 'morasca.com',\n",
       " 'aol.com',\n",
       " 'hanyang.ac.kr',\n",
       " 'hanyang.ac.kr')"
      ]
     },
     "execution_count": 80,
     "metadata": {},
     "output_type": "execute_result"
    }
   ],
   "source": [
    "domain"
   ]
  },
  {
   "cell_type": "code",
   "execution_count": 19,
   "metadata": {},
   "outputs": [
    {
     "data": {
      "text/html": [
       "<div>\n",
       "<style scoped>\n",
       "    .dataframe tbody tr th:only-of-type {\n",
       "        vertical-align: middle;\n",
       "    }\n",
       "\n",
       "    .dataframe tbody tr th {\n",
       "        vertical-align: top;\n",
       "    }\n",
       "\n",
       "    .dataframe thead th {\n",
       "        text-align: right;\n",
       "    }\n",
       "</style>\n",
       "<table border=\"1\" class=\"dataframe\">\n",
       "  <thead>\n",
       "    <tr style=\"text-align: right;\">\n",
       "      <th></th>\n",
       "      <th>0</th>\n",
       "      <th>1</th>\n",
       "      <th>2</th>\n",
       "      <th>3</th>\n",
       "    </tr>\n",
       "  </thead>\n",
       "  <tbody>\n",
       "    <tr>\n",
       "      <th>0</th>\n",
       "      <td>파이리</td>\n",
       "      <td>1052340004</td>\n",
       "      <td>charmander@fire.poke</td>\n",
       "      <td>사장</td>\n",
       "    </tr>\n",
       "    <tr>\n",
       "      <th>1</th>\n",
       "      <td>날쌩마</td>\n",
       "      <td>1020607709</td>\n",
       "      <td>rapidash@fire.poke</td>\n",
       "      <td>부장</td>\n",
       "    </tr>\n",
       "    <tr>\n",
       "      <th>2</th>\n",
       "      <td>브케인</td>\n",
       "      <td>1041553104</td>\n",
       "      <td>cyndaquil@fire.poke</td>\n",
       "      <td>과장</td>\n",
       "    </tr>\n",
       "    <tr>\n",
       "      <th>3</th>\n",
       "      <td>푸호꼬</td>\n",
       "      <td>1086530042</td>\n",
       "      <td>fennekin@fire.poke</td>\n",
       "      <td>사원</td>\n",
       "    </tr>\n",
       "    <tr>\n",
       "      <th>4</th>\n",
       "      <td>화살꼬빈</td>\n",
       "      <td>1066162014</td>\n",
       "      <td>fletchling@normal.poke</td>\n",
       "      <td>인턴</td>\n",
       "    </tr>\n",
       "  </tbody>\n",
       "</table>\n",
       "</div>"
      ],
      "text/plain": [
       "      0           1                        2    3\n",
       "0   파이리  1052340004     charmander@fire.poke   사장\n",
       "1   날쌩마  1020607709       rapidash@fire.poke   부장\n",
       "2   브케인  1041553104      cyndaquil@fire.poke   과장\n",
       "3   푸호꼬  1086530042       fennekin@fire.poke   사원\n",
       "4  화살꼬빈  1066162014   fletchling@normal.poke   인턴"
      ]
     },
     "execution_count": 19,
     "metadata": {},
     "output_type": "execute_result"
    }
   ],
   "source": [
    "pd.read_csv('./business_cards/Fire_corp.csv', header=None)"
   ]
  },
  {
   "cell_type": "code",
   "execution_count": 21,
   "metadata": {},
   "outputs": [
    {
     "data": {
      "text/plain": [
       "{<T.contacts: 1>: array(['sid', 'phone', 'email'], dtype=object),\n",
       " <T.students: 2>: array(['sid', 'password', 'sname', 'sex', 'major_id', 'tutor_id', 'grade'],\n",
       "       dtype=object),\n",
       " <T.classes: 3>: array(['class_id', 'class_no', 'course_id', 'name', 'major_id', 'grade',\n",
       "        'credit', 'instructor_id', 'capacity', 'year_open', 'room_id'],\n",
       "       dtype=object),\n",
       " <T.course: 4>: array(['cid', 'cname', 'credit'], dtype=object),\n",
       " <T.credits: 5>: array(['sid', 'class_id', 'grade'], dtype=object)}"
      ]
     },
     "execution_count": 21,
     "metadata": {},
     "output_type": "execute_result"
    }
   ],
   "source": [
    "db.columns"
   ]
  },
  {
   "cell_type": "code",
   "execution_count": 51,
   "metadata": {},
   "outputs": [],
   "source": [
    "# login as 정남아\n",
    "db.login('2009003125', '125125125')"
   ]
  },
  {
   "cell_type": "code",
   "execution_count": null,
   "metadata": {},
   "outputs": [],
   "source": [
    "# login as 윤인욱\n",
    "db.login('2013004394', 'goodboy')"
   ]
  },
  {
   "cell_type": "code",
   "execution_count": null,
   "metadata": {},
   "outputs": [],
   "source": [
    "# login as 장두호\n",
    "db.login('2014005004', 'hexahed')"
   ]
  },
  {
   "cell_type": "code",
   "execution_count": null,
   "metadata": {},
   "outputs": [],
   "source": []
  }
 ],
 "metadata": {
  "kernelspec": {
   "display_name": "Python 3",
   "language": "python",
   "name": "python3"
  },
  "language_info": {
   "codemirror_mode": {
    "name": "ipython",
    "version": 3
   },
   "file_extension": ".py",
   "mimetype": "text/x-python",
   "name": "python",
   "nbconvert_exporter": "python",
   "pygments_lexer": "ipython3",
   "version": "3.6.6"
  }
 },
 "nbformat": 4,
 "nbformat_minor": 2
}
