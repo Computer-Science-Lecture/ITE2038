{
 "cells": [
  {
   "cell_type": "code",
   "execution_count": 6,
   "metadata": {},
   "outputs": [],
   "source": [
    "import pandas as pd\n",
    "import numpy as np"
   ]
  },
  {
   "cell_type": "code",
   "execution_count": 46,
   "metadata": {},
   "outputs": [],
   "source": [
    "from enum import Enum"
   ]
  },
  {
   "cell_type": "code",
   "execution_count": 144,
   "metadata": {},
   "outputs": [],
   "source": [
    "from functools import wraps"
   ]
  },
  {
   "cell_type": "code",
   "execution_count": 179,
   "metadata": {},
   "outputs": [],
   "source": [
    "class Permission(Enum):\n",
    "    Admin = 1\n",
    "    Student = 2\n",
    "    \n",
    "    def require(permission: Permission):\n",
    "        def wrapper(f):\n",
    "            @wraps(f)\n",
    "            def wrapped(self, *args, **kwargs):\n",
    "                if self.session and self.session.permission == permission:\n",
    "                    return f(self, *args, **kwargs)\n",
    "                raise Exception(\"Invalid Permission\")\n",
    "            return wrapped\n",
    "        return wrapper"
   ]
  },
  {
   "cell_type": "code",
   "execution_count": 172,
   "metadata": {},
   "outputs": [],
   "source": [
    "class T(Enum):\n",
    "    contacts = 1\n",
    "    students = 2\n",
    "    classes = 3\n",
    "    course = 4\n",
    "    credits = 5"
   ]
  },
  {
   "cell_type": "code",
   "execution_count": 173,
   "metadata": {},
   "outputs": [],
   "source": [
    "class Session(object):\n",
    "    def __init__(self, user: int, permission: Permission):\n",
    "        self.user = user\n",
    "        self.permission = permission\n",
    "\n",
    "    def isAdmin(self):\n",
    "        return self.permission == Permission.admin"
   ]
  },
  {
   "cell_type": "code",
   "execution_count": 174,
   "metadata": {},
   "outputs": [],
   "source": [
    "files = {\n",
    "    T.contacts: 'contacts.csv',\n",
    "    T.students: 'students.csv',\n",
    "    T.classes: 'class.csv',\n",
    "    T.course: 'course.csv',\n",
    "    T.credits: 'credits.csv',\n",
    "}"
   ]
  },
  {
   "cell_type": "code",
   "execution_count": null,
   "metadata": {},
   "outputs": [],
   "source": [
    "\n",
    "def strip(text):\n",
    "    try:\n",
    "        return text.strip()\n",
    "    except AttributeError:\n",
    "        return text\n",
    "\n",
    "def make_int(text):\n",
    "    return int(text.strip('\" '))\n",
    "\n",
    "table = pd.read_table(\"data.csv\", sep=r',',\n",
    "                      names=[\"Year\", \"Make\", \"Model\", \"Description\"],\n",
    "                      converters = {'Description' : strip,\n",
    "                                    'Model' : strip,\n",
    "                                    'Make' : strip,\n",
    "                                    'Year' : make_int})"
   ]
  },
  {
   "cell_type": "code",
   "execution_count": 203,
   "metadata": {},
   "outputs": [
    {
     "data": {
      "text/plain": [
       "'123'"
      ]
     },
     "execution_count": 203,
     "metadata": {},
     "output_type": "execute_result"
    }
   ],
   "source": [
    "Manager.converter[T.contacts]('   123   ')"
   ]
  },
  {
   "cell_type": "code",
   "execution_count": 374,
   "metadata": {},
   "outputs": [],
   "source": [
    "class Manager:\n",
    "    converter = {t: lambda x: x.strip() for t in T}\n",
    "    \n",
    "    def __init__(self, files):\n",
    "        if not all(t in files for t in T):\n",
    "            raise \"Must include all files\"\n",
    "        self.frames = {file: pd.read_csv(filename, dtype=object, sep=\" *, *\") for file, filename in files.items()}\n",
    "        self.columns = {file: frame.columns.values for file, frame in self.frames.items()}\n",
    "        self.values = {file: frame.values for file, frame in self.frames.items()}\n",
    "        self.session = None\n",
    "    \n",
    "    def login(self, user, pw):\n",
    "        if user == 'admin':\n",
    "            self.session = Session(user, Permission.Admin)\n",
    "    \n",
    "    @Permission.require(Permission.Admin)\n",
    "    def create(self, target, values):\n",
    "        self.values[target] = np.vstack([self.values[target], np.array(values)])\n",
    "    \n",
    "    @Permission.require(Permission.Admin)\n",
    "    def remove(self, target, index):\n",
    "        pass\n",
    "    \n",
    "    @Permission.require(Permission.Admin)\n",
    "    def update(self, target, where, values):\n",
    "        pass\n",
    "    \n",
    "    def find(self, subject, target, where):\n",
    "        return db.values[target][np.where(\n",
    "            np.logical_and(\n",
    "                *[db.values[target][:,column] == value for column, value in zip(\n",
    "                    [np.where(db.columns[target] == case)[0][0] for case in where],\n",
    "                    where.values()\n",
    "                )], True\n",
    "            )\n",
    "        )][:, [np.where(db.columns[target] == case)[0][0] for case in (subject if subject else db.columns[target])]]\n",
    "    \n",
    "    def select(self, target, index):\n",
    "        return self.values[np.where(self.raw[:,0] == 2013004394)].squeeze()\n",
    "    \n",
    "    def __str__(self):\n",
    "        pass"
   ]
  },
  {
   "cell_type": "code",
   "execution_count": 375,
   "metadata": {},
   "outputs": [
    {
     "name": "stderr",
     "output_type": "stream",
     "text": [
      "/Users/user/miniconda3/lib/python3.6/site-packages/ipykernel_launcher.py:7: ParserWarning: Falling back to the 'python' engine because the 'c' engine does not support regex separators (separators > 1 char and different from '\\s+' are interpreted as regex); you can avoid this warning by specifying engine='python'.\n",
      "  import sys\n"
     ]
    }
   ],
   "source": [
    "db = Manager(files)"
   ]
  },
  {
   "cell_type": "code",
   "execution_count": 357,
   "metadata": {},
   "outputs": [],
   "source": [
    "db.login('admin', None)"
   ]
  },
  {
   "cell_type": "code",
   "execution_count": 358,
   "metadata": {},
   "outputs": [],
   "source": [
    "db.create(T.students, [2016001234, 'xxx', '홍길동', 'male', 6, 1999002345, 1])"
   ]
  },
  {
   "cell_type": "code",
   "execution_count": 359,
   "metadata": {},
   "outputs": [],
   "source": [
    "db.create(T.contacts, [2016001234, '01088884444', 'hong@hanyang.ac.kr'])"
   ]
  },
  {
   "cell_type": "code",
   "execution_count": 365,
   "metadata": {},
   "outputs": [
    {
     "ename": "IndexError",
     "evalue": "too many indices for array",
     "output_type": "error",
     "traceback": [
      "\u001b[0;31m---------------------------------------------------------------------------\u001b[0m",
      "\u001b[0;31mIndexError\u001b[0m                                Traceback (most recent call last)",
      "\u001b[0;32m<ipython-input-365-a0791ba75929>\u001b[0m in \u001b[0;36m<module>\u001b[0;34m()\u001b[0m\n\u001b[0;32m----> 1\u001b[0;31m \u001b[0mdb\u001b[0m\u001b[0;34m.\u001b[0m\u001b[0mupdate\u001b[0m\u001b[0;34m(\u001b[0m\u001b[0mT\u001b[0m\u001b[0;34m.\u001b[0m\u001b[0mcontacts\u001b[0m\u001b[0;34m,\u001b[0m \u001b[0;34m{\u001b[0m\u001b[0;34m\"sid\"\u001b[0m\u001b[0;34m:\u001b[0m \u001b[0mdb\u001b[0m\u001b[0;34m.\u001b[0m\u001b[0mfind\u001b[0m\u001b[0;34m(\u001b[0m\u001b[0;34m[\u001b[0m\u001b[0;34m'sid'\u001b[0m\u001b[0;34m]\u001b[0m\u001b[0;34m,\u001b[0m \u001b[0mT\u001b[0m\u001b[0;34m.\u001b[0m\u001b[0mstudents\u001b[0m\u001b[0;34m,\u001b[0m \u001b[0;34m{\u001b[0m\u001b[0;34m'sname'\u001b[0m\u001b[0;34m:\u001b[0m \u001b[0;34m'권희조'\u001b[0m\u001b[0;34m}\u001b[0m\u001b[0;34m)\u001b[0m\u001b[0;34m.\u001b[0m\u001b[0msqueeze\u001b[0m\u001b[0;34m(\u001b[0m\u001b[0;34m)\u001b[0m\u001b[0;34m[\u001b[0m\u001b[0;36m0\u001b[0m\u001b[0;34m]\u001b[0m\u001b[0;34m}\u001b[0m\u001b[0;34m)\u001b[0m\u001b[0;34m\u001b[0m\u001b[0m\n\u001b[0m",
      "\u001b[0;31mIndexError\u001b[0m: too many indices for array"
     ]
    }
   ],
   "source": [
    "db.update(T.contacts, {\n",
    "    \"sid\": db.find(['sid'], T.students, {'sname': '권희조'}).squeeze()[0]\n",
    "}, {\n",
    "    \"email\": \"kwon@hanyang.ac.kr\"\n",
    "})"
   ]
  },
  {
   "cell_type": "code",
   "execution_count": 364,
   "metadata": {},
   "outputs": [
    {
     "data": {
      "text/plain": [
       "array(['sid', 'phone', 'email'], dtype=object)"
      ]
     },
     "execution_count": 364,
     "metadata": {},
     "output_type": "execute_result"
    }
   ],
   "source": [
    "db.columns[T.contacts]"
   ]
  },
  {
   "cell_type": "code",
   "execution_count": null,
   "metadata": {},
   "outputs": [],
   "source": []
  },
  {
   "cell_type": "code",
   "execution_count": null,
   "metadata": {},
   "outputs": [],
   "source": []
  },
  {
   "cell_type": "code",
   "execution_count": null,
   "metadata": {},
   "outputs": [],
   "source": []
  },
  {
   "cell_type": "code",
   "execution_count": null,
   "metadata": {},
   "outputs": [],
   "source": []
  }
 ],
 "metadata": {
  "kernelspec": {
   "display_name": "Python 3",
   "language": "python",
   "name": "python3"
  },
  "language_info": {
   "codemirror_mode": {
    "name": "ipython",
    "version": 3
   },
   "file_extension": ".py",
   "mimetype": "text/x-python",
   "name": "python",
   "nbconvert_exporter": "python",
   "pygments_lexer": "ipython3",
   "version": "3.6.6"
  }
 },
 "nbformat": 4,
 "nbformat_minor": 2
}
