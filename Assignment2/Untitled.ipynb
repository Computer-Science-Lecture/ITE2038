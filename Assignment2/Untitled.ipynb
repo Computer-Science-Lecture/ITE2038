{
 "cells": [
  {
   "cell_type": "code",
   "execution_count": 11,
   "metadata": {},
   "outputs": [],
   "source": [
    "import pandas as pd\n",
    "import numpy as np"
   ]
  },
  {
   "cell_type": "code",
   "execution_count": 12,
   "metadata": {},
   "outputs": [],
   "source": [
    "from typing import Callable\n",
    "\n",
    "from enum import Enum\n",
    "from functools import wraps"
   ]
  },
  {
   "cell_type": "code",
   "execution_count": 255,
   "metadata": {},
   "outputs": [],
   "source": [
    "from typing import Callable\n",
    "\n",
    "from enum import Enum\n",
    "from functools import wraps\n",
    "\n",
    "class Permission(Enum):\n",
    "    Default = 0\n",
    "    Admin = 1\n",
    "    Student = 2\n",
    "    \n",
    "    @classmethod\n",
    "    def sudo(instance, task):\n",
    "        original_permission = instance.session.permission\n",
    "        instance.session.permission = Permission.Admin\n",
    "        result = task()\n",
    "        instance.session.permission = original_permission\n",
    "        return result\n",
    "\n",
    "    def require(permission):\n",
    "        def wrapper(f):\n",
    "            @wraps(f)\n",
    "            def wrapped(self, *args, **kwargs):\n",
    "                if self.session and self.session.permission == permission:\n",
    "                    return f(self, *args, **kwargs)\n",
    "                raise Exception(\"Invalid Permission\")\n",
    "            return wrapped\n",
    "        return wrapper\n"
   ]
  },
  {
   "cell_type": "code",
   "execution_count": 256,
   "metadata": {},
   "outputs": [],
   "source": [
    "class T(Enum):\n",
    "    contacts = 1\n",
    "    students = 2\n",
    "    classes = 3\n",
    "    course = 4\n",
    "    credits = 5\n"
   ]
  },
  {
   "cell_type": "code",
   "execution_count": 257,
   "metadata": {},
   "outputs": [],
   "source": [
    "from lib.permission import Permission\n",
    "\n",
    "class Session(object):\n",
    "    def __init__(self, user: int, permission: Permission):\n",
    "        self.user = user\n",
    "        self.permission = permission\n",
    "\n",
    "    @property\n",
    "    def isAdmin(self) -> bool:\n",
    "        return self.permission == Permission.admin\n",
    "\n",
    "    def require():\n",
    "        def wrapper(f):\n",
    "            @wraps(f)\n",
    "            def wrapped(self, *args, **kwargs):\n",
    "                if self.session:\n",
    "                    return f(self, *args, **kwargs)\n",
    "                raise Exception(\"Session required\")\n",
    "            return wrapped\n",
    "        return wrapper"
   ]
  },
  {
   "cell_type": "code",
   "execution_count": 258,
   "metadata": {},
   "outputs": [],
   "source": [
    "class Manager:\n",
    "    converter = {t: lambda x: x.strip() for t in T}\n",
    "    \n",
    "    def __init__(self, files):\n",
    "        if not all(t in files for t in T):\n",
    "            raise \"Must include all files\"\n",
    "        self.frames = {file: pd.read_csv(filename, dtype=object, sep=\" *, *\", encoding=\"UTF-8\") for file, filename in files.items()}\n",
    "        self.columns = {file: frame.columns.values for file, frame in self.frames.items()}\n",
    "        self.__values_admin = {file: frame.values for file, frame in self.frames.items()}\n",
    "        self.__values_user = {file: [] for file, frame in self.frames.items()}\n",
    "        self.session = Session(None, Permission.Default)\n",
    "    \n",
    "    def login(self, user, pw):\n",
    "        if user == 'admin':\n",
    "            self.session = Session(user, Permission.Admin)\n",
    "        else:\n",
    "            password = Permission.sudo(self, lambda: self.findOne(['password'], T.students, {'sid': sid}))\n",
    "            if password and password[0] == pw:\n",
    "                self.session = Session(user, Permission.Student)\n",
    "            else:\n",
    "                raise Exception('Invalid ID or Password')\n",
    "    \n",
    "    @Permission.require(Permission.Admin)\n",
    "    def values_admin(self) -> np.ndarray:\n",
    "        return self.__values_admin\n",
    "    \n",
    "    @Permission.require(Permission.Student)\n",
    "    def values_student(self) -> np.ndarray:\n",
    "        return self.__values_user\n",
    "    \n",
    "    @Permission.require(Permission.Admin)\n",
    "    def set_values_admin(self, target: T, v: np.ndarray):\n",
    "        self.__values_admin[T] = v\n",
    "    \n",
    "    @Permission.require(Permission.Student)\n",
    "    def set_values_student(self, target: T, v: np.ndarray):\n",
    "        self.__values_user[T] = v\n",
    "    \n",
    "    @property\n",
    "    def values(self) -> np.ndarray:\n",
    "        return {\n",
    "            Permission.Admin: self.values_admin,\n",
    "            Permission.Student: self.values_student,\n",
    "        }[self.session.permission]()\n",
    "    \n",
    "    @Permission.require(Permission.Admin)\n",
    "    def create(self, target: T, values = np.ndarray):\n",
    "        self.values[target] = np.vstack([self.values[target], np.array(values)])\n",
    "    \n",
    "    @Permission.require(Permission.Admin)\n",
    "    def remove(self, target: T, where: dict = {}):\n",
    "        self.values[target] = np.delete(self.values[target], self.findIndex(target, where), 0)\n",
    "    \n",
    "    @Permission.require(Permission.Admin)\n",
    "    def update(self, target: T, where: dict = {}, values = np.ndarray):\n",
    "        for key, value in values.items():\n",
    "            self.values[target][self.findIndex(target, where), np.where(self.columns[target] == key)[0][0]] = value\n",
    "    \n",
    "    def findIndex(self, target: T, where: dict = {}) -> np.ndarray:\n",
    "        return np.where(\n",
    "            np.logical_and(\n",
    "                *[self.values[target][:,column] == value for column, value in zip(\n",
    "                    [np.where(self.columns[target] == case)[0][0] for case in where],\n",
    "                    where.values()\n",
    "                )],\n",
    "                np.ones(np.size(db.values[target], 0), dtype=np.bool),\n",
    "                np.ones(np.size(db.values[target], 0), dtype=np.bool)\n",
    "            )\n",
    "        )[0]\n",
    "\n",
    "    def findAll(self, subject: list, target: T, where: dict = {}) -> np.ndarray:\n",
    "        return self.values[target][self.findIndex(target, where)]\\\n",
    "                          [:, [np.where(self.columns[target] == case)[0][0] for case in (subject if subject else self.columns[target])]]\n",
    "    \n",
    "    def findOne(self, subject: list, target: T, where: dict = {}) -> object:\n",
    "        try:\n",
    "            return self.findAll(subject, target, where)[0]\n",
    "        except:\n",
    "            return None\n",
    "    \n",
    "    def __str__(self):\n",
    "        pass"
   ]
  },
  {
   "cell_type": "code",
   "execution_count": 259,
   "metadata": {},
   "outputs": [
    {
     "name": "stderr",
     "output_type": "stream",
     "text": [
      "c:\\utility\\conda\\lib\\site-packages\\ipykernel_launcher.py:7: ParserWarning: Falling back to the 'python' engine because the 'c' engine does not support regex separators (separators > 1 char and different from '\\s+' are interpreted as regex); you can avoid this warning by specifying engine='python'.\n",
      "  import sys\n"
     ]
    }
   ],
   "source": [
    "db = Manager({\n",
    "    T.contacts: 'contacts.csv',\n",
    "    T.students: 'students.csv',\n",
    "    T.classes: 'class.csv',\n",
    "    T.course: 'course.csv',\n",
    "    T.credits: 'credits.csv',\n",
    "})"
   ]
  },
  {
   "cell_type": "code",
   "execution_count": 260,
   "metadata": {},
   "outputs": [],
   "source": [
    "db.login('admin', None)"
   ]
  },
  {
   "cell_type": "code",
   "execution_count": 264,
   "metadata": {},
   "outputs": [
    {
     "ename": "AttributeError",
     "evalue": "'Permission' object has no attribute 'sudo'",
     "output_type": "error",
     "traceback": [
      "\u001b[1;31m---------------------------------------------------------------------------\u001b[0m",
      "\u001b[1;31mAttributeError\u001b[0m                            Traceback (most recent call last)",
      "\u001b[1;32m<ipython-input-264-dd9d0e3c6990>\u001b[0m in \u001b[0;36m<module>\u001b[1;34m()\u001b[0m\n\u001b[1;32m----> 1\u001b[1;33m \u001b[0mPermission\u001b[0m\u001b[1;33m.\u001b[0m\u001b[0mDefault\u001b[0m\u001b[1;33m.\u001b[0m\u001b[0msudo\u001b[0m\u001b[1;33m\u001b[0m\u001b[0m\n\u001b[0m",
      "\u001b[1;31mAttributeError\u001b[0m: 'Permission' object has no attribute 'sudo'"
     ]
    }
   ],
   "source": [
    "Permission.Default.sudo"
   ]
  },
  {
   "cell_type": "code",
   "execution_count": 263,
   "metadata": {},
   "outputs": [
    {
     "ename": "AttributeError",
     "evalue": "sudo",
     "output_type": "error",
     "traceback": [
      "\u001b[1;31m---------------------------------------------------------------------------\u001b[0m",
      "\u001b[1;31mAttributeError\u001b[0m                            Traceback (most recent call last)",
      "\u001b[1;32m<ipython-input-263-ed71091bf440>\u001b[0m in \u001b[0;36m<module>\u001b[1;34m()\u001b[0m\n\u001b[1;32m----> 1\u001b[1;33m \u001b[0mPermission\u001b[0m\u001b[1;33m.\u001b[0m\u001b[0msudo\u001b[0m\u001b[1;33m(\u001b[0m\u001b[0mPermission\u001b[0m\u001b[1;33m.\u001b[0m\u001b[0mDefault\u001b[0m\u001b[1;33m)\u001b[0m\u001b[1;33m\u001b[0m\u001b[0m\n\u001b[0m",
      "\u001b[1;32mc:\\utility\\conda\\lib\\enum.py\u001b[0m in \u001b[0;36m__getattr__\u001b[1;34m(cls, name)\u001b[0m\n\u001b[0;32m    322\u001b[0m             \u001b[1;32mreturn\u001b[0m \u001b[0mcls\u001b[0m\u001b[1;33m.\u001b[0m\u001b[0m_member_map_\u001b[0m\u001b[1;33m[\u001b[0m\u001b[0mname\u001b[0m\u001b[1;33m]\u001b[0m\u001b[1;33m\u001b[0m\u001b[0m\n\u001b[0;32m    323\u001b[0m         \u001b[1;32mexcept\u001b[0m \u001b[0mKeyError\u001b[0m\u001b[1;33m:\u001b[0m\u001b[1;33m\u001b[0m\u001b[0m\n\u001b[1;32m--> 324\u001b[1;33m             \u001b[1;32mraise\u001b[0m \u001b[0mAttributeError\u001b[0m\u001b[1;33m(\u001b[0m\u001b[0mname\u001b[0m\u001b[1;33m)\u001b[0m \u001b[1;32mfrom\u001b[0m \u001b[1;32mNone\u001b[0m\u001b[1;33m\u001b[0m\u001b[0m\n\u001b[0m\u001b[0;32m    325\u001b[0m \u001b[1;33m\u001b[0m\u001b[0m\n\u001b[0;32m    326\u001b[0m     \u001b[1;32mdef\u001b[0m \u001b[0m__getitem__\u001b[0m\u001b[1;33m(\u001b[0m\u001b[0mcls\u001b[0m\u001b[1;33m,\u001b[0m \u001b[0mname\u001b[0m\u001b[1;33m)\u001b[0m\u001b[1;33m:\u001b[0m\u001b[1;33m\u001b[0m\u001b[0m\n",
      "\u001b[1;31mAttributeError\u001b[0m: sudo"
     ]
    }
   ],
   "source": [
    "Permission.sudo(Permission.Default)"
   ]
  },
  {
   "cell_type": "code",
   "execution_count": 262,
   "metadata": {},
   "outputs": [
    {
     "ename": "AttributeError",
     "evalue": "sudo",
     "output_type": "error",
     "traceback": [
      "\u001b[1;31m---------------------------------------------------------------------------\u001b[0m",
      "\u001b[1;31mAttributeError\u001b[0m                            Traceback (most recent call last)",
      "\u001b[1;32m<ipython-input-262-2e416a8f60e7>\u001b[0m in \u001b[0;36m<module>\u001b[1;34m()\u001b[0m\n\u001b[1;32m----> 1\u001b[1;33m \u001b[0mdb\u001b[0m\u001b[1;33m.\u001b[0m\u001b[0mlogin\u001b[0m\u001b[1;33m(\u001b[0m\u001b[1;34m'2009003125'\u001b[0m\u001b[1;33m,\u001b[0m \u001b[1;34m'125125125'\u001b[0m\u001b[1;33m)\u001b[0m\u001b[1;33m\u001b[0m\u001b[0m\n\u001b[0m",
      "\u001b[1;32m<ipython-input-258-67b9d41f2cb0>\u001b[0m in \u001b[0;36mlogin\u001b[1;34m(self, user, pw)\u001b[0m\n\u001b[0;32m     15\u001b[0m             \u001b[0mself\u001b[0m\u001b[1;33m.\u001b[0m\u001b[0msession\u001b[0m \u001b[1;33m=\u001b[0m \u001b[0mSession\u001b[0m\u001b[1;33m(\u001b[0m\u001b[0muser\u001b[0m\u001b[1;33m,\u001b[0m \u001b[0mPermission\u001b[0m\u001b[1;33m.\u001b[0m\u001b[0mAdmin\u001b[0m\u001b[1;33m)\u001b[0m\u001b[1;33m\u001b[0m\u001b[0m\n\u001b[0;32m     16\u001b[0m         \u001b[1;32melse\u001b[0m\u001b[1;33m:\u001b[0m\u001b[1;33m\u001b[0m\u001b[0m\n\u001b[1;32m---> 17\u001b[1;33m             \u001b[0mpassword\u001b[0m \u001b[1;33m=\u001b[0m \u001b[0mPermission\u001b[0m\u001b[1;33m.\u001b[0m\u001b[0msudo\u001b[0m\u001b[1;33m(\u001b[0m\u001b[0mself\u001b[0m\u001b[1;33m,\u001b[0m \u001b[1;32mlambda\u001b[0m\u001b[1;33m:\u001b[0m \u001b[0mself\u001b[0m\u001b[1;33m.\u001b[0m\u001b[0mfindOne\u001b[0m\u001b[1;33m(\u001b[0m\u001b[1;33m[\u001b[0m\u001b[1;34m'password'\u001b[0m\u001b[1;33m]\u001b[0m\u001b[1;33m,\u001b[0m \u001b[0mT\u001b[0m\u001b[1;33m.\u001b[0m\u001b[0mstudents\u001b[0m\u001b[1;33m,\u001b[0m \u001b[1;33m{\u001b[0m\u001b[1;34m'sid'\u001b[0m\u001b[1;33m:\u001b[0m \u001b[0msid\u001b[0m\u001b[1;33m}\u001b[0m\u001b[1;33m)\u001b[0m\u001b[1;33m)\u001b[0m\u001b[1;33m\u001b[0m\u001b[0m\n\u001b[0m\u001b[0;32m     18\u001b[0m             \u001b[1;32mif\u001b[0m \u001b[0mpassword\u001b[0m \u001b[1;32mand\u001b[0m \u001b[0mpassword\u001b[0m\u001b[1;33m[\u001b[0m\u001b[1;36m0\u001b[0m\u001b[1;33m]\u001b[0m \u001b[1;33m==\u001b[0m \u001b[0mpw\u001b[0m\u001b[1;33m:\u001b[0m\u001b[1;33m\u001b[0m\u001b[0m\n\u001b[0;32m     19\u001b[0m                 \u001b[0mself\u001b[0m\u001b[1;33m.\u001b[0m\u001b[0msession\u001b[0m \u001b[1;33m=\u001b[0m \u001b[0mSession\u001b[0m\u001b[1;33m(\u001b[0m\u001b[0muser\u001b[0m\u001b[1;33m,\u001b[0m \u001b[0mPermission\u001b[0m\u001b[1;33m.\u001b[0m\u001b[0mStudent\u001b[0m\u001b[1;33m)\u001b[0m\u001b[1;33m\u001b[0m\u001b[0m\n",
      "\u001b[1;32mc:\\utility\\conda\\lib\\enum.py\u001b[0m in \u001b[0;36m__getattr__\u001b[1;34m(cls, name)\u001b[0m\n\u001b[0;32m    322\u001b[0m             \u001b[1;32mreturn\u001b[0m \u001b[0mcls\u001b[0m\u001b[1;33m.\u001b[0m\u001b[0m_member_map_\u001b[0m\u001b[1;33m[\u001b[0m\u001b[0mname\u001b[0m\u001b[1;33m]\u001b[0m\u001b[1;33m\u001b[0m\u001b[0m\n\u001b[0;32m    323\u001b[0m         \u001b[1;32mexcept\u001b[0m \u001b[0mKeyError\u001b[0m\u001b[1;33m:\u001b[0m\u001b[1;33m\u001b[0m\u001b[0m\n\u001b[1;32m--> 324\u001b[1;33m             \u001b[1;32mraise\u001b[0m \u001b[0mAttributeError\u001b[0m\u001b[1;33m(\u001b[0m\u001b[0mname\u001b[0m\u001b[1;33m)\u001b[0m \u001b[1;32mfrom\u001b[0m \u001b[1;32mNone\u001b[0m\u001b[1;33m\u001b[0m\u001b[0m\n\u001b[0m\u001b[0;32m    325\u001b[0m \u001b[1;33m\u001b[0m\u001b[0m\n\u001b[0;32m    326\u001b[0m     \u001b[1;32mdef\u001b[0m \u001b[0m__getitem__\u001b[0m\u001b[1;33m(\u001b[0m\u001b[0mcls\u001b[0m\u001b[1;33m,\u001b[0m \u001b[0mname\u001b[0m\u001b[1;33m)\u001b[0m\u001b[1;33m:\u001b[0m\u001b[1;33m\u001b[0m\u001b[0m\n",
      "\u001b[1;31mAttributeError\u001b[0m: sudo"
     ]
    }
   ],
   "source": [
    "db.login('2009003125', '125125125')"
   ]
  },
  {
   "cell_type": "code",
   "execution_count": 226,
   "metadata": {},
   "outputs": [
    {
     "data": {
      "text/plain": [
       "<Permission.Student: 2>"
      ]
     },
     "execution_count": 226,
     "metadata": {},
     "output_type": "execute_result"
    }
   ],
   "source": [
    "db.session.permission"
   ]
  },
  {
   "cell_type": "code",
   "execution_count": 19,
   "metadata": {},
   "outputs": [
    {
     "data": {
      "text/plain": [
       "array([['2009003125', '125125125', '정남아', 'female', '44', '2001032011',\n",
       "        '4'],\n",
       "       ['2010004052', '39nnf2', '김관유', 'male', '4', '2001032064', '3'],\n",
       "       ['2010499349', '2bn4', '이현주', 'female', '5', '2001032031', '4'],\n",
       "       ['2011004533', '35234', '한준희', 'male', '3', '2001032070', '3'],\n",
       "       ['2011040404', 'x17171771', '김다미', 'female', '15', '2001032068',\n",
       "        '3'],\n",
       "       ['2012004003', 'banila', '김동관', 'male', '33', '2001032030', '3'],\n",
       "       ['2012004203', 'qwe123', '오든솔', 'male', '5', '2001032007', '3'],\n",
       "       ['2012030303', 'arandomkey', '최다비드', 'male', '34', '2001032031',\n",
       "        '2'],\n",
       "       ['2012394929', '3425nn5', '이지은', 'female', '1', '2001032085', '3'],\n",
       "       ['2013001445', '7007', '노선영', 'female', '4', '2001032010', '2'],\n",
       "       ['2013004004', 'foxfoxfox', '윤준영', 'male', '22', '2001032004',\n",
       "        '2'],\n",
       "       ['2013004394', 'goodboy', '윤인욱', 'male', '1', '2001032004', '2'],\n",
       "       ['2013030128', 'food', '윤지형', 'male', '44', '2001032078', '2'],\n",
       "       ['2013040051', 'zeroone234', '최아랑', 'female', '19', '2001032078',\n",
       "        '2'],\n",
       "       ['2014001303', '192939', '김다현', 'female', '3', '2001032009', '1'],\n",
       "       ['2014002331', 'wer234', '이상덕', 'male', '2', '2001032008', '1'],\n",
       "       ['2014005004', 'hexahed', '장두호', 'male', '5', '2001032081', '1'],\n",
       "       ['2014019493', 'zerozero', '임지훈', 'male', '17', '2001032003', '1'],\n",
       "       ['2014040404', 'donkey', '권지현', 'female', '22', '2001032053', '1'],\n",
       "       ['2014505050', 'hellobaby', '권희조', 'female', '44', '2001032078',\n",
       "        '1']], dtype=object)"
      ]
     },
     "execution_count": 19,
     "metadata": {},
     "output_type": "execute_result"
    }
   ],
   "source": [
    "db.values[T.students]"
   ]
  },
  {
   "cell_type": "code",
   "execution_count": 257,
   "metadata": {},
   "outputs": [],
   "source": [
    "db.create(T.students, [2016001234, 'xxx', '홍길동', 'male', 6, 1999002345, 1])"
   ]
  },
  {
   "cell_type": "code",
   "execution_count": 258,
   "metadata": {},
   "outputs": [],
   "source": [
    "db.create(T.contacts, [2016001234, '01088884444', 'hong@hanyang.ac.kr'])"
   ]
  },
  {
   "cell_type": "code",
   "execution_count": 259,
   "metadata": {},
   "outputs": [],
   "source": [
    "db.update(T.contacts, {\n",
    "    \"sid\": db.findOne(['sid'], T.students, {'sname': '권희조'})[0]\n",
    "}, {\n",
    "    \"email\": \"kwon@hanyang.ac.kr\"\n",
    "})"
   ]
  },
  {
   "cell_type": "code",
   "execution_count": 260,
   "metadata": {},
   "outputs": [],
   "source": [
    "db.remove(T.contacts, {\"sid\": db.findOne([\"sid\"], T.students, {\"sname\": \"김다현\"})})"
   ]
  },
  {
   "cell_type": "code",
   "execution_count": null,
   "metadata": {},
   "outputs": [],
   "source": []
  },
  {
   "cell_type": "code",
   "execution_count": null,
   "metadata": {},
   "outputs": [],
   "source": []
  },
  {
   "cell_type": "code",
   "execution_count": null,
   "metadata": {},
   "outputs": [],
   "source": []
  },
  {
   "cell_type": "code",
   "execution_count": null,
   "metadata": {},
   "outputs": [],
   "source": []
  }
 ],
 "metadata": {
  "kernelspec": {
   "display_name": "Python 3",
   "language": "python",
   "name": "python3"
  },
  "language_info": {
   "codemirror_mode": {
    "name": "ipython",
    "version": 3
   },
   "file_extension": ".py",
   "mimetype": "text/x-python",
   "name": "python",
   "nbconvert_exporter": "python",
   "pygments_lexer": "ipython3",
   "version": "3.6.6"
  }
 },
 "nbformat": 4,
 "nbformat_minor": 2
}
